{
 "cells": [
  {
   "cell_type": "markdown",
   "metadata": {},
   "source": [
    "# Introduction"
   ]
  },
  {
   "cell_type": "markdown",
   "metadata": {},
   "source": [
    "## Introduction/Business Problem"
   ]
  },
  {
   "cell_type": "markdown",
   "metadata": {},
   "source": [
    "### Introduction"
   ]
  },
  {
   "cell_type": "markdown",
   "metadata": {},
   "source": [
    "**La Serena** y **Coquimbo** son 2 ciudades de la región de Coquimbo en Chile, que conforman una [conurbación](https://es.wikipedia.org/wiki/Conurbaci%C3%B3n_La_Serena-Coquimbo)  . Ambas ciudades están separadas por una distancia de 10 km aproximadamente.\n",
    "Ámbas ciudades tienen algunas similaridades 2 3, según Wikipedia la cual toma como referencia el Censo realizado en el año 2012:\n",
    "    \n",
    "\n",
    ". | [La Serena](https://es.wikipedia.org/wiki/La_Serena_(Chile)) | [Coquimbo](https://es.wikipedia.org/wiki/Coquimbo)\n",
    "--|-----------|--------------------\n",
    "Población | 210.000 aprox | 200.000 aprox.\n",
    "Densidad poblacional | 116,9 hab/km² | 140,01 hab/km²\n",
    "Superficie | 1892.8 km2 | 1.429 km²\n",
    "Altitud media | 28 | 15\n",
    "Ubicación (latitud, longitud) | -29.9077833, -71.2794672 | -29.9704668, -71.3337099\n",
    "\n",
    "Altitud media es medida en cantidad de metros sobre el nivel del mar."
   ]
  },
  {
   "cell_type": "markdown",
   "metadata": {},
   "source": [
    "### Business Problem"
   ]
  },
  {
   "cell_type": "markdown",
   "metadata": {},
   "source": [
    "**La Serena se caracteriza por ser destino turístico de chilenos y extranjeros en el verano, y es considerada como una de las mejores ciudades para vivir, estudiar, trabajar y visitar. Sin embargo, Coquimbo no lo es (léase [aquí](https://www.t13.cl/noticia/nacional/superan-vina-del-mar-coronan-valdivia-como-mejor-ciudad-vivir-chile) y [aquí](https://www.biobiochile.cl/noticias/nacional/chile/2017/12/04/estudio-revela-cuales-son-las-mejores-ciudades-para-vivir-estudiar-y-trabajar-en-chile.shtml)).**\n",
    "\n",
    "<br>\n",
    "<div style='background-color: orange;'>\n",
    "Dada esta situación, se pretende investigar en base a datos públicos qué diferencias pueden existir entre ambas ciudades, más allá de los datos geográficos y/o demográficos.\n",
    "</div>"
   ]
  },
  {
   "cell_type": "markdown",
   "metadata": {},
   "source": [
    "## Data Description"
   ]
  },
  {
   "cell_type": "markdown",
   "metadata": {},
   "source": [
    "Para abordar el problema, podemos considerar datos asociados a salud, educación,  empleabilidad y delincuencia:\n",
    "\n",
    "* **Salud**: se utlizarán [datos públicos](http://datos.gob.cl/dataset/farmacias-en-chile/resource/a60f93af-6a8a-45b6-85ff-267f5dd37ad6) asociados a las farmacias disponibles en el país, el cual considera la geolocalización de las mismas. Además, se utilizarán [datos públicos](https://reportesdeis.minsal.cl/ListaEstablecimientoWebSite/) de los establecimientos de salud disponibles en el país.\n",
    "* **Educación**: se utilizarán [datos](http://datos.mineduc.cl/dashboards/20015/descarga-bases-de-datos-directorio-de-establecimientos-educacionales/) [públicos](http://datos.mineduc.cl/dashboards/19731/bases-de-datos-directorio-de-establecimientos-educacionales/) asociados a los establecimientos educacionales existentes en el país.   \n",
    "* **Empleo**: se utilizarán [datos](https://www.ine.cl/estadisticas/laborales/ene) [públicos](https://www.ine.cl/estadisticas/laborales/ir-icmo) asociados a empleabilidad laboral, basados en la Encuesta Nacional de Empleo para el trimestre Enero 2019 - Marzo 2019.\n",
    "* **Delitos**: se utilizarán [datos públicos](http://www.seguridadpublica.gov.cl/estadisticas-delictuales-region-de-coquimbo/) asociados a eventos delictuales registrados en el país.\n",
    "\n",
    "Es importante recalcar que todos los datos se obtendrán de sitios web estatales."
   ]
  },
  {
   "cell_type": "code",
   "execution_count": null,
   "metadata": {},
   "outputs": [],
   "source": []
  }
 ],
 "metadata": {
  "hide_input": false,
  "kernelspec": {
   "display_name": "Python 3",
   "language": "python",
   "name": "python3"
  },
  "language_info": {
   "codemirror_mode": {
    "name": "ipython",
    "version": 3
   },
   "file_extension": ".py",
   "mimetype": "text/x-python",
   "name": "python",
   "nbconvert_exporter": "python",
   "pygments_lexer": "ipython3",
   "version": "3.6.8"
  },
  "toc": {
   "base_numbering": 1,
   "nav_menu": {},
   "number_sections": true,
   "sideBar": true,
   "skip_h1_title": false,
   "title_cell": "Table of Contents",
   "title_sidebar": "Contents",
   "toc_cell": false,
   "toc_position": {},
   "toc_section_display": true,
   "toc_window_display": true
  },
  "varInspector": {
   "cols": {
    "lenName": 16,
    "lenType": 16,
    "lenVar": 40
   },
   "kernels_config": {
    "python": {
     "delete_cmd_postfix": "",
     "delete_cmd_prefix": "del ",
     "library": "var_list.py",
     "varRefreshCmd": "print(var_dic_list())"
    },
    "r": {
     "delete_cmd_postfix": ") ",
     "delete_cmd_prefix": "rm(",
     "library": "var_list.r",
     "varRefreshCmd": "cat(var_dic_list()) "
    }
   },
   "types_to_exclude": [
    "module",
    "function",
    "builtin_function_or_method",
    "instance",
    "_Feature"
   ],
   "window_display": false
  }
 },
 "nbformat": 4,
 "nbformat_minor": 2
}
